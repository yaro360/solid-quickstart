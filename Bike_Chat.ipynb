{
  "nbformat": 4,
  "nbformat_minor": 0,
  "metadata": {
    "colab": {
      "provenance": [],
      "authorship_tag": "ABX9TyOLAhBIJe9e2n/sZ85TNgE5",
      "include_colab_link": true
    },
    "kernelspec": {
      "name": "python3",
      "display_name": "Python 3"
    },
    "language_info": {
      "name": "python"
    }
  },
  "cells": [
    {
      "cell_type": "markdown",
      "metadata": {
        "id": "view-in-github",
        "colab_type": "text"
      },
      "source": [
        "<a href=\"https://colab.research.google.com/github/yaro360/solid-quickstart/blob/main/Bike_Chat.ipynb\" target=\"_parent\"><img src=\"https://colab.research.google.com/assets/colab-badge.svg\" alt=\"Open In Colab\"/></a>"
      ]
    },
    {
      "cell_type": "code",
      "execution_count": null,
      "metadata": {
        "colab": {
          "base_uri": "https://localhost:8080/"
        },
        "id": "kfDzLLMWwQPh",
        "outputId": "c83ea409-e657-42c6-b3fc-ef040e5301a1"
      },
      "outputs": [
        {
          "metadata": {
            "tags": null
          },
          "name": "stdout",
          "output_type": "stream",
          "text": [
            "Looking in indexes: https://pypi.org/simple, https://us-python.pkg.dev/colab-wheels/public/simple/\n",
            "Requirement already satisfied: openai in /usr/local/lib/python3.9/dist-packages (0.27.2)\n",
            "Requirement already satisfied: aiohttp in /usr/local/lib/python3.9/dist-packages (from openai) (3.8.4)\n",
            "Requirement already satisfied: tqdm in /usr/local/lib/python3.9/dist-packages (from openai) (4.65.0)\n",
            "Requirement already satisfied: requests>=2.20 in /usr/local/lib/python3.9/dist-packages (from openai) (2.27.1)\n",
            "Requirement already satisfied: idna<4,>=2.5 in /usr/local/lib/python3.9/dist-packages (from requests>=2.20->openai) (3.4)\n",
            "Requirement already satisfied: charset-normalizer~=2.0.0 in /usr/local/lib/python3.9/dist-packages (from requests>=2.20->openai) (2.0.12)\n",
            "Requirement already satisfied: urllib3<1.27,>=1.21.1 in /usr/local/lib/python3.9/dist-packages (from requests>=2.20->openai) (1.26.15)\n",
            "Requirement already satisfied: certifi>=2017.4.17 in /usr/local/lib/python3.9/dist-packages (from requests>=2.20->openai) (2022.12.7)\n",
            "Requirement already satisfied: aiosignal>=1.1.2 in /usr/local/lib/python3.9/dist-packages (from aiohttp->openai) (1.3.1)\n",
            "Requirement already satisfied: frozenlist>=1.1.1 in /usr/local/lib/python3.9/dist-packages (from aiohttp->openai) (1.3.3)\n",
            "Requirement already satisfied: multidict<7.0,>=4.5 in /usr/local/lib/python3.9/dist-packages (from aiohttp->openai) (6.0.4)\n",
            "Requirement already satisfied: attrs>=17.3.0 in /usr/local/lib/python3.9/dist-packages (from aiohttp->openai) (22.2.0)\n",
            "Requirement already satisfied: async-timeout<5.0,>=4.0.0a3 in /usr/local/lib/python3.9/dist-packages (from aiohttp->openai) (4.0.2)\n",
            "Requirement already satisfied: yarl<2.0,>=1.0 in /usr/local/lib/python3.9/dist-packages (from aiohttp->openai) (1.8.2)\n",
            "Looking in indexes: https://pypi.org/simple, https://us-python.pkg.dev/colab-wheels/public/simple/\n",
            "Requirement already satisfied: python-dotenv in /usr/local/lib/python3.9/dist-packages (1.0.0)\n",
            "Looking in indexes: https://pypi.org/simple, https://us-python.pkg.dev/colab-wheels/public/simple/\n",
            "Requirement already satisfied: colorama in /usr/local/lib/python3.9/dist-packages (0.4.6)\n",
            "\u001b[36m\u001b[1mHere you go: \u001b[22mEbikes, or electric bikes, are bicycles that have an electric motor and battery system to assist the rider with pedaling. This makes cycling easier and more accessible for people of all ages and abilities. \n",
            "\n",
            "There are different types of ebikes available, including city ebikes, mountain ebikes, and folding ebikes. Each type is designed for a specific purpose, and you can choose the one that best suits your needs.\n",
            "\n",
            "When buying an ebike, it's important to consider factors such as the range of the battery, the power of the motor, and the weight of the bike. A good quality ebike will have a range of at least 40-50 miles on a single charge, a powerful motor of at least 250 watts, and a sturdy frame that can support the weight of the battery and motor.\n",
            "\n",
            "If you're new to ebikes, it's a good idea to test ride a few different models before making a purchase. This will give you a better idea of what features you like and what type of bike will be best for your needs. Additionally, it's important to follow all safety guidelines when riding an ebike, including wearing a helmet and following traffic laws.\n"
          ]
        }
      ],
      "source": [
        "!pip install openai\n",
        "!pip install python-dotenv\n",
        "!pip install colorama\n",
        "\n",
        "\n",
        "import os\n",
        "import openai\n",
        "from dotenv import load_dotenv\n",
        "from colorama import Fore, Back, Style\n",
        "\n",
        "# Load values from the .env file if it exists\n",
        "load_dotenv()\n",
        "\n",
        "# Configure OpenAI\n",
        "openai.api_key = os.environ[\"OPENAI_API_KEY\"]\n",
        "\n",
        "INSTRUCTIONS = (\"You are an AI assistant that knows everything about bicycles, bike parts, bike equipment, how to fix them, how to build them, how to take them apart, the best bikes for every road, best bikes for specific occasions, you can give valuable advice about bicycles, suggestions. You are very respectful and very friendly.\")\n",
        "\n",
        "TEMPERATURE = 0.5\n",
        "MAX_TOKENS = 500\n",
        "FREQUENCY_PENALTY = 0\n",
        "PRESENCE_PENALTY = 0.6\n",
        "# Limits how many questions we include in the prompt\n",
        "MAX_CONTEXT_QUESTIONS = 10\n",
        "\n",
        "def get_response(instructions, previous_questions_and_answers, new_question):\n",
        "    \"\"\"Get a response from ChatCompletion\n",
        "\n",
        "    Args:\n",
        "        instructions: Instructions for the AI assistant.\n",
        "        previous_questions_and_answers: A list of previous Q&A pairs.\n",
        "        new_question: The new question from the user.\n",
        "\n",
        "    Returns:\n",
        "        The response text\n",
        "    \"\"\"\n",
        "    # Build the messages\n",
        "    messages = [\n",
        "        { \"role\": \"system\", \"content\": instructions },\n",
        "    ]\n",
        "    # Add the previous questions and answers\n",
        "    for question, answer in previous_questions_and_answers[-MAX_CONTEXT_QUESTIONS:]:\n",
        "        messages.append({ \"role\": \"user\", \"content\": question })\n",
        "        messages.append({ \"role\": \"assistant\", \"content\": answer })\n",
        "    # Add the new question\n",
        "    messages.append({ \"role\": \"user\", \"content\": new_question })\n",
        "\n",
        "    completion = openai.ChatCompletion.create(\n",
        "        model=\"gpt-3.5-turbo\",\n",
        "        messages=messages,\n",
        "        temperature=TEMPERATURE,\n",
        "        max_tokens=MAX_TOKENS,\n",
        "        top_p=1,\n",
        "        frequency_penalty=FREQUENCY_PENALTY,\n",
        "        presence_penalty=PRESENCE_PENALTY,\n",
        "    )\n",
        "    return completion.choices[0].message.content\n",
        "\n",
        "def main():\n",
        "    os.system(\"cls\" if os.name == \"nt\" else \"clear\")\n",
        "    # Keep track of previous questions and answers\n",
        "    previous_questions_and_answers = []\n",
        "    while True:\n",
        "        # Ask the user for their question\n",
        "        new_question = input(\n",
        "            Fore.GREEN + Style.BRIGHT + \"What can I get you?: \" + Style.RESET_ALL\n",
        "        )\n",
        "        response = get_response(INSTRUCTIONS, previous_questions_and_answers, new_question)\n",
        "\n",
        "        # Add the new question and answer to the list of previous questions and answers\n",
        "        previous_questions_and_answers.append((new_question, response))\n",
        "\n",
        "        # Print the response\n",
        "        print(Fore.CYAN + Style.BRIGHT + \"Here you go: \" + Style.NORMAL + response)\n",
        "\n",
        "if __name__ == \"__main__\":\n",
        "    main()\n"
      ]
    },
    {
      "cell_type": "code",
      "source": [
        "os.environ[\"OPENAI_API_KEY\"] = input (\"paste your key\")\n"
      ],
      "metadata": {
        "colab": {
          "base_uri": "https://localhost:8080/"
        },
        "id": "7gTz4jUyz8q8",
        "outputId": "b857c250-c3f8-4bc6-edeb-70c0b10eb169"
      },
      "execution_count": 14,
      "outputs": [
        {
          "name": "stdout",
          "output_type": "stream",
          "text": [
            "paste your keysk-eUeRWP2eqt1yZlwkKYF2T3BlbkFJR973FoRDDKbf0vraib34\n"
          ]
        }
      ]
    }
  ]
}